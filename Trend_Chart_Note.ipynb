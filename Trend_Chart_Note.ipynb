{
 "cells": [
  {
   "cell_type": "markdown",
   "id": "fc555008",
   "metadata": {},
   "source": [
    "## Import Libraries"
   ]
  },
  {
   "cell_type": "code",
   "execution_count": null,
   "id": "b427dcf3",
   "metadata": {},
   "outputs": [],
   "source": [
    "import pandas as pd\n",
    "import numpy as np\n",
    "import matplotlib.pyplot as plt"
   ]
  },
  {
   "cell_type": "markdown",
   "id": "faa29e3d",
   "metadata": {},
   "source": [
    "## Get Data"
   ]
  },
  {
   "cell_type": "code",
   "execution_count": null,
   "id": "1340c69f",
   "metadata": {},
   "outputs": [],
   "source": [
    "df = pd.read_csv('./DataSets/netflix_titles.csv')\n",
    "df.shape\n",
    "df.head()"
   ]
  },
  {
   "cell_type": "code",
   "execution_count": null,
   "id": "8a047b78",
   "metadata": {},
   "outputs": [],
   "source": [
    "#n=df"
   ]
  },
  {
   "cell_type": "code",
   "execution_count": null,
   "id": "7ef5045d",
   "metadata": {},
   "outputs": [],
   "source": [
    "n = df.groupby(['release_year', 'type'], as_index=False).show_id.count()\n",
    "n"
   ]
  },
  {
   "cell_type": "code",
   "execution_count": null,
   "id": "9bb02278",
   "metadata": {},
   "outputs": [],
   "source": [
    "#n=df"
   ]
  },
  {
   "cell_type": "code",
   "execution_count": null,
   "id": "527cb729",
   "metadata": {},
   "outputs": [],
   "source": [
    "n.columns = ['release_year', 'type', 'count']"
   ]
  },
  {
   "cell_type": "code",
   "execution_count": null,
   "id": "c0d83291",
   "metadata": {},
   "outputs": [],
   "source": [
    "n"
   ]
  },
  {
   "cell_type": "code",
   "execution_count": null,
   "id": "226a04b1",
   "metadata": {},
   "outputs": [],
   "source": [
    "pv = n.pivot(index='release_year', columns='type', values='count').reset_index()"
   ]
  },
  {
   "cell_type": "code",
   "execution_count": null,
   "id": "332649b6",
   "metadata": {},
   "outputs": [],
   "source": [
    "pv.fillna(0, inplace = True)\n",
    "pv.head()"
   ]
  },
  {
   "cell_type": "markdown",
   "id": "1392729f",
   "metadata": {},
   "source": [
    "## Creating a Chart"
   ]
  },
  {
   "cell_type": "code",
   "execution_count": null,
   "id": "61f55f91",
   "metadata": {},
   "outputs": [],
   "source": [
    "#  Declare a chart with one Axis\n",
    "fig, ax = plt.subplots()  \n",
    "\n",
    "# Creating some  dummy data\n",
    "ax.plot(pv.release_year, pv.Movie, label = 'Movies')\n",
    "ax.plot(pv.release_year, pv['TV Show'], label = 'Tv Shows') \n",
    "ax.set_ylabel('Movies/TV Shows') \n",
    "ax.set_xlabel('Year of Release')\n",
    "ax.set_title(\"Trend Chart\")\n",
    "plt.text(x=1970, y=400, s=r'Majority Movies are released after 2000 and Tv Shows mostly after 2010')#, fontsize = 12)\n",
    "fig.set_size_inches(18.5, 10.5)\n",
    "plt.grid()\n",
    "ax.legend();"
   ]
  },
  {
   "cell_type": "code",
   "execution_count": null,
   "id": "5ac7521e",
   "metadata": {},
   "outputs": [],
   "source": []
  }
 ],
 "metadata": {
  "kernelspec": {
   "display_name": "Python 3 (ipykernel)",
   "language": "python",
   "name": "python3"
  },
  "language_info": {
   "codemirror_mode": {
    "name": "ipython",
    "version": 3
   },
   "file_extension": ".py",
   "mimetype": "text/x-python",
   "name": "python",
   "nbconvert_exporter": "python",
   "pygments_lexer": "ipython3",
   "version": "3.9.16"
  }
 },
 "nbformat": 4,
 "nbformat_minor": 5
}
